{
 "cells": [
  {
   "cell_type": "markdown",
   "id": "d2328cad",
   "metadata": {},
   "source": [
    "# Python Basics Assignment"
   ]
  },
  {
   "cell_type": "markdown",
   "id": "cb537954",
   "metadata": {},
   "source": [
    "### Question 1\n",
    "Write a function to compute number of vowels in a string given as input"
   ]
  },
  {
   "cell_type": "code",
   "execution_count": 4,
   "id": "cf213ba2",
   "metadata": {},
   "outputs": [
    {
     "name": "stdin",
     "output_type": "stream",
     "text": [
      "Enter the string afrin\n"
     ]
    },
    {
     "name": "stdout",
     "output_type": "stream",
     "text": [
      "vowel= 2\n"
     ]
    }
   ],
   "source": [
    "# Your code here\n",
    "def your_function_1():\n",
    "    x=input(\"Enter the string\")\n",
    "    vowels=\"aeiouAEIOU\"\n",
    "    count=0\n",
    "    for i in x:\n",
    "        if i in vowels:\n",
    "            count = count + 1\n",
    "    print(\"vowel=\",count)\n",
    "your_function_1()    \n",
    "    \n",
    "    "
   ]
  },
  {
   "cell_type": "markdown",
   "id": "4eaff430",
   "metadata": {},
   "source": [
    "### Question 2\n",
    "Write a function that checks whether a number is prime."
   ]
  },
  {
   "cell_type": "code",
   "execution_count": 18,
   "id": "81934cf7",
   "metadata": {},
   "outputs": [
    {
     "name": "stdin",
     "output_type": "stream",
     "text": [
      "Enter the number: 6\n"
     ]
    },
    {
     "name": "stdout",
     "output_type": "stream",
     "text": [
      "It is not prime\n"
     ]
    }
   ],
   "source": [
    "# Your code here\n",
    "def your_function_2():\n",
    "    a=int(input(\"Enter the number:\"))\n",
    "    for i in range(2,a):\n",
    "        if a % i == 0:\n",
    "            print(\"It is not prime\")\n",
    "            break\n",
    "        else:\n",
    "            print(\"It is prime\")\n",
    "your_function_2()            \n",
    "    "
   ]
  },
  {
   "cell_type": "markdown",
   "id": "5f061e50",
   "metadata": {},
   "source": [
    "### Question 3\n",
    "Write a function to return the maximum of two numbers."
   ]
  },
  {
   "cell_type": "code",
   "execution_count": 23,
   "id": "44e2a596",
   "metadata": {},
   "outputs": [
    {
     "name": "stdin",
     "output_type": "stream",
     "text": [
      "Enter the number 3\n",
      "Enter the number 6\n"
     ]
    },
    {
     "name": "stdout",
     "output_type": "stream",
     "text": [
      "Y is maximum\n"
     ]
    }
   ],
   "source": [
    "# Your code here\n",
    "def your_function_3():\n",
    "    x=int(input(\"Enter the number\"))\n",
    "    y=int(input(\"Enter the number\"))\n",
    "    if x>y:\n",
    "        print(\"X is maximum\")\n",
    "    else:\n",
    "        print(\"Y is maximum\")\n",
    "your_function_3()       "
   ]
  },
  {
   "cell_type": "markdown",
   "id": "7513ca91",
   "metadata": {},
   "source": [
    "### Question 4\n",
    "Write a function to return the factorial of a number."
   ]
  },
  {
   "cell_type": "code",
   "execution_count": 25,
   "id": "6617842f",
   "metadata": {},
   "outputs": [
    {
     "name": "stdin",
     "output_type": "stream",
     "text": [
      "enter the number 4\n"
     ]
    },
    {
     "name": "stdout",
     "output_type": "stream",
     "text": [
      "24\n"
     ]
    }
   ],
   "source": [
    "# Your code here\n",
    "def your_function_4():\n",
    "    a=int(input(\"enter the number\"))\n",
    "    f=1\n",
    "    for i in range(1,a+1):\n",
    "        f = f*i\n",
    "    print(f)\n",
    "your_function_4()"
   ]
  },
  {
   "cell_type": "markdown",
   "id": "9b942098",
   "metadata": {},
   "source": [
    "### Question 5\n",
    "Write a function to reverse a string without string indexing."
   ]
  },
  {
   "cell_type": "code",
   "execution_count": 49,
   "id": "d606b194",
   "metadata": {},
   "outputs": [
    {
     "name": "stdin",
     "output_type": "stream",
     "text": [
      "Enter a string: afrin\n"
     ]
    },
    {
     "name": "stdout",
     "output_type": "stream",
     "text": [
      "nirfa"
     ]
    }
   ],
   "source": [
    "# Your code here\n",
    "def your_function_5():\n",
    "    a=input(\"Enter a string:\")\n",
    "    n=reversed(a)\n",
    "    for i in n:\n",
    "        print(i,end=\"\")\n",
    "your_function_5()"
   ]
  },
  {
   "cell_type": "markdown",
   "id": "1abd915b",
   "metadata": {},
   "source": [
    "### Question 6\n",
    "Write a function to check if a string is a palindrome."
   ]
  },
  {
   "cell_type": "code",
   "execution_count": 32,
   "id": "2b868fb3",
   "metadata": {},
   "outputs": [
    {
     "name": "stdin",
     "output_type": "stream",
     "text": [
      "enter the string: malayalam\n"
     ]
    },
    {
     "name": "stdout",
     "output_type": "stream",
     "text": [
      "it is palindrome\n"
     ]
    }
   ],
   "source": [
    "# Your code here\n",
    "def your_function_6():\n",
    "    a=input(\"enter the string:\")\n",
    "    if(a==a[::-1]):\n",
    "        print(\"it is palindrome\")\n",
    "    else:\n",
    "        print(\"not palindrome\")\n",
    "your_function_6()        "
   ]
  },
  {
   "cell_type": "markdown",
   "id": "5f2f3791",
   "metadata": {},
   "source": [
    "### Question 7\n",
    "Write a function to count vowels in a string."
   ]
  },
  {
   "cell_type": "code",
   "execution_count": 33,
   "id": "73fefa50",
   "metadata": {},
   "outputs": [
    {
     "name": "stdin",
     "output_type": "stream",
     "text": [
      "Enter the string Durga\n"
     ]
    },
    {
     "name": "stdout",
     "output_type": "stream",
     "text": [
      "vowel= 2\n"
     ]
    }
   ],
   "source": [
    "# Your code here\n",
    "def your_function_7():\n",
    "    x=input(\"Enter the string\")\n",
    "    vowels=\"aeiouAEIOU\"\n",
    "    count=0\n",
    "    for i in x:\n",
    "        if i in vowels:\n",
    "            count = count + 1\n",
    "    print(\"vowel=\",count)\n",
    "your_function_7()    \n",
    "    "
   ]
  },
  {
   "cell_type": "markdown",
   "id": "0d3a9996",
   "metadata": {},
   "source": [
    "### Question 8\n",
    "Write a function that returns the sum of a list."
   ]
  },
  {
   "cell_type": "code",
   "execution_count": 38,
   "id": "ab6afc66",
   "metadata": {},
   "outputs": [
    {
     "name": "stdout",
     "output_type": "stream",
     "text": [
      "19\n"
     ]
    }
   ],
   "source": [
    "# Your code here\n",
    "def your_function_8():\n",
    "    n=[1,3,6,9]\n",
    "    sum=0\n",
    "    for i in n:\n",
    "        sum = sum + i\n",
    "    print(sum)\n",
    "your_function_8()"
   ]
  },
  {
   "cell_type": "markdown",
   "id": "f6682500",
   "metadata": {},
   "source": [
    "### Question 9\n",
    "Write a function to find the smallest number in a list."
   ]
  },
  {
   "cell_type": "code",
   "execution_count": 39,
   "id": "6798a641",
   "metadata": {},
   "outputs": [
    {
     "name": "stdout",
     "output_type": "stream",
     "text": [
      "Smallest no is: 0\n"
     ]
    }
   ],
   "source": [
    "# Your code here\n",
    "def your_function_9():\n",
    "    a=[8,0,3,6]\n",
    "    a.sort()\n",
    "    print(\"Smallest no is:\",a[0])\n",
    "your_function_9()       "
   ]
  },
  {
   "cell_type": "markdown",
   "id": "fb11e683",
   "metadata": {},
   "source": [
    "### Question 10\n",
    "Write a function to remove duplicates from a list."
   ]
  },
  {
   "cell_type": "code",
   "execution_count": 116,
   "id": "7c53f88c",
   "metadata": {},
   "outputs": [
    {
     "name": "stdout",
     "output_type": "stream",
     "text": [
      "[1, 2, 6, 4]\n"
     ]
    }
   ],
   "source": [
    "# Your code here\n",
    "def your_function_10():\n",
    "    a=[1,2,2,6,4]\n",
    "    n=[]\n",
    "    for i in a:\n",
    "        if i not in n:\n",
    "            n.append(i)\n",
    "    print(n)       \n",
    "your_function_10()"
   ]
  },
  {
   "cell_type": "markdown",
   "id": "9c380a5c",
   "metadata": {},
   "source": [
    "### Question 11\n",
    "Write a function to sort a list in ascending order without using builtin sort function"
   ]
  },
  {
   "cell_type": "code",
   "execution_count": 62,
   "id": "8e43832f",
   "metadata": {},
   "outputs": [
    {
     "name": "stdout",
     "output_type": "stream",
     "text": [
      "[1, 5, 7, 8]\n"
     ]
    }
   ],
   "source": [
    "# Your code here\n",
    "def your_function_11():\n",
    "    a=[1,8,5,7]\n",
    "    n=len(a)\n",
    "    for i in range(len(a)):\n",
    "        for j in range(0,len(a)-i-1):\n",
    "            if a[j]>a[j+1]:\n",
    "                a[j],a[j+1]=a[j+1],a[j]\n",
    "    print(a)\n",
    "your_function_11()                "
   ]
  },
  {
   "cell_type": "markdown",
   "id": "1270c91c",
   "metadata": {},
   "source": [
    "### Question 12\n",
    "Write a function that returns the length of a string."
   ]
  },
  {
   "cell_type": "code",
   "execution_count": 69,
   "id": "87f35472",
   "metadata": {},
   "outputs": [
    {
     "name": "stdin",
     "output_type": "stream",
     "text": [
      "Enter the string afrin\n"
     ]
    },
    {
     "name": "stdout",
     "output_type": "stream",
     "text": [
      "5\n"
     ]
    }
   ],
   "source": [
    "# Your code here\n",
    "def your_function_12():\n",
    "    a=input(\"Enter the string\")\n",
    "    print(len(a))\n",
    "your_function_12()    "
   ]
  },
  {
   "cell_type": "markdown",
   "id": "9a8e3d28",
   "metadata": {},
   "source": [
    "### Question 13\n",
    "Write a function to count words in a sentence."
   ]
  },
  {
   "cell_type": "code",
   "execution_count": 73,
   "id": "e6f996ef",
   "metadata": {},
   "outputs": [
    {
     "name": "stdin",
     "output_type": "stream",
     "text": [
      "Enter the sentence i am afrin\n"
     ]
    },
    {
     "name": "stdout",
     "output_type": "stream",
     "text": [
      "No of words 3\n"
     ]
    }
   ],
   "source": [
    "# Your code here\n",
    "def your_function_13():\n",
    "    a=input(\"Enter the sentence\")\n",
    "    b=len(a.split())\n",
    "    print(\"No of words\",b)\n",
    "your_function_13()    "
   ]
  },
  {
   "cell_type": "markdown",
   "id": "430c2e4a",
   "metadata": {},
   "source": [
    "### Question 14\n",
    "Write a function to convert Celsius to Fahrenheit."
   ]
  },
  {
   "cell_type": "code",
   "execution_count": 74,
   "id": "b710b0bd",
   "metadata": {},
   "outputs": [
    {
     "name": "stdin",
     "output_type": "stream",
     "text": [
      "enter the celsius 27\n"
     ]
    },
    {
     "name": "stdout",
     "output_type": "stream",
     "text": [
      "80.6\n"
     ]
    }
   ],
   "source": [
    "# Your code here\n",
    "def your_function_14():\n",
    "    c=int(input(\"enter the temperature in celsius\"))\n",
    "    f=(c*9/5) + 32\n",
    "    print(f)\n",
    "your_function_14()    "
   ]
  },
  {
   "cell_type": "markdown",
   "id": "acefe5e3",
   "metadata": {},
   "source": [
    "### Question 15\n",
    "Write a function to check if a number is palindrome."
   ]
  },
  {
   "cell_type": "code",
   "execution_count": 80,
   "id": "b700abae",
   "metadata": {},
   "outputs": [
    {
     "name": "stdin",
     "output_type": "stream",
     "text": [
      "enter the no: 234\n"
     ]
    },
    {
     "name": "stdout",
     "output_type": "stream",
     "text": [
      "not palindrome\n"
     ]
    }
   ],
   "source": [
    "# Your code here\n",
    "def your_function_15():\n",
    "    a=input(\"enter the no:\")\n",
    "    if(a==a[::-1]):\n",
    "        print(\"it is palindrome\")\n",
    "    else:\n",
    "        print(\"not palindrome\")\n",
    "your_function_15()        "
   ]
  },
  {
   "cell_type": "markdown",
   "id": "b63452cb",
   "metadata": {},
   "source": [
    "### Question 16\n",
    "Write a function to return all even numbers in a list."
   ]
  },
  {
   "cell_type": "code",
   "execution_count": 82,
   "id": "9d1fc968",
   "metadata": {},
   "outputs": [
    {
     "name": "stdout",
     "output_type": "stream",
     "text": [
      "[2, 4, 6]\n"
     ]
    }
   ],
   "source": [
    "# Your code here\n",
    "def your_function_16():\n",
    "    a=[2,4,6,9]\n",
    "    b=[]\n",
    "    for i in a:\n",
    "        if i%2==0:\n",
    "            b.append(i)\n",
    "    print(b)\n",
    "your_function_16()"
   ]
  },
  {
   "cell_type": "markdown",
   "id": "aca524d9",
   "metadata": {},
   "source": [
    "### Question 17\n",
    "Write a function to return the nth Fibonacci number."
   ]
  },
  {
   "cell_type": "code",
   "execution_count": 107,
   "id": "97dc4e87",
   "metadata": {},
   "outputs": [
    {
     "name": "stdin",
     "output_type": "stream",
     "text": [
      "Enter the number: 9\n"
     ]
    },
    {
     "data": {
      "text/plain": [
       "34"
      ]
     },
     "execution_count": 107,
     "metadata": {},
     "output_type": "execute_result"
    }
   ],
   "source": [
    "# Your code here\n",
    "def your_function_17():\n",
    "    n=int(input(\"Enter the number:\"))\n",
    "    a=0\n",
    "    b=1\n",
    "    for i in range(n):\n",
    "        a,b = b,a+b\n",
    "    return(a)    \n",
    "your_function_17()    "
   ]
  },
  {
   "cell_type": "markdown",
   "id": "29c847dc",
   "metadata": {},
   "source": [
    "### Question 18\n",
    "Write a function to calculate the average of a list."
   ]
  },
  {
   "cell_type": "code",
   "execution_count": 84,
   "id": "9adc9fd2",
   "metadata": {},
   "outputs": [
    {
     "name": "stdout",
     "output_type": "stream",
     "text": [
      "5.0\n"
     ]
    }
   ],
   "source": [
    "# Your code here\n",
    "def your_function_18():\n",
    "    a=[2,4,6,8]\n",
    "    sum=0\n",
    "    for i in a:\n",
    "        sum = sum + i\n",
    "    avg=sum/len(a)\n",
    "    print(avg)\n",
    "your_function_18()    "
   ]
  },
  {
   "cell_type": "markdown",
   "id": "420240fb",
   "metadata": {},
   "source": [
    "### Question 19\n",
    "Write a function that returns a dictionary of character counts."
   ]
  },
  {
   "cell_type": "code",
   "execution_count": 142,
   "id": "95cafc54",
   "metadata": {},
   "outputs": [
    {
     "name": "stdin",
     "output_type": "stream",
     "text": [
      "Enter the string: hello hi\n"
     ]
    },
    {
     "data": {
      "text/plain": [
       "{'h': 2, 'e': 1, 'l': 2, 'o': 1, ' ': 1, 'i': 1}"
      ]
     },
     "execution_count": 142,
     "metadata": {},
     "output_type": "execute_result"
    }
   ],
   "source": [
    "# Your code here\n",
    "def your_function_19():\n",
    "    a=input(\"Enter the string:\")\n",
    "    x={}\n",
    "    for i in a:\n",
    "        if i in x:\n",
    "            x[i] += 1\n",
    "        else:\n",
    "            x[i]=1\n",
    "    return(x)        \n",
    "your_function_19()    "
   ]
  },
  {
   "cell_type": "markdown",
   "id": "17629a07",
   "metadata": {},
   "source": [
    "### Question 20\n",
    "Write a function that returns True if all list elements are unique."
   ]
  },
  {
   "cell_type": "code",
   "execution_count": 110,
   "id": "fe4f8820",
   "metadata": {},
   "outputs": [
    {
     "name": "stdout",
     "output_type": "stream",
     "text": [
      "False\n"
     ]
    }
   ],
   "source": [
    "# Your code here\n",
    "def your_function_20():\n",
    "    a=[2,3,7,9,2]\n",
    "    if len(a)==len(set(a)):\n",
    "        print(\"True\")\n",
    "    else:\n",
    "        print(\"False\")\n",
    "your_function_20()    "
   ]
  },
  {
   "cell_type": "markdown",
   "id": "91dc87b9",
   "metadata": {},
   "source": [
    "### Question 21\n",
    "Write a function that returns dot product of two list of numbers"
   ]
  },
  {
   "cell_type": "code",
   "execution_count": 117,
   "id": "87c3fa4b",
   "metadata": {},
   "outputs": [
    {
     "name": "stdout",
     "output_type": "stream",
     "text": [
      "Dot product= 88\n"
     ]
    }
   ],
   "source": [
    "# Your code here\n",
    "def your_function_21():\n",
    "    a=[1,4,6]\n",
    "    b=[2,8,9]\n",
    "    dot_product=a[0]*b[0]+a[1]*b[1]+a[2]*b[2]\n",
    "    print(\"Dot product=\",dot_product)\n",
    "your_function_21()    "
   ]
  },
  {
   "cell_type": "markdown",
   "id": "5eeb0527",
   "metadata": {},
   "source": [
    "### Question 22\n",
    "Write a function that returns the projection of vector a onto vector b. Both a and b are given as list of numbers"
   ]
  },
  {
   "cell_type": "code",
   "execution_count": 118,
   "id": "d2c2439f",
   "metadata": {},
   "outputs": [
    {
     "name": "stdout",
     "output_type": "stream",
     "text": [
      "7.209240900567557\n"
     ]
    }
   ],
   "source": [
    "# Your code here\n",
    "def your_function_22():\n",
    "    a=[1,4,6]\n",
    "    b=[2,8,9]\n",
    "    dot_product=a[0]*b[0]+a[1]*b[1]+a[2]*b[2]\n",
    "    magnitude_b=((b[0]**2+b[1]**2+b[2]**2)**0.5)\n",
    "    projection=(dot_product/magnitude_b)\n",
    "    print(projection)\n",
    "your_function_22()    "
   ]
  },
  {
   "cell_type": "markdown",
   "id": "1410b385",
   "metadata": {},
   "source": [
    "### Question 23\n",
    "Write a function to return common elements between two lists."
   ]
  },
  {
   "cell_type": "code",
   "execution_count": 123,
   "id": "2cee584c",
   "metadata": {},
   "outputs": [
    {
     "name": "stdout",
     "output_type": "stream",
     "text": [
      "[5, 8]\n"
     ]
    }
   ],
   "source": [
    "# Your code here\n",
    "def your_function_23():\n",
    "    a=[2,5,7,8]\n",
    "    b=[3,8,6,5]\n",
    "    c=[]\n",
    "    for i in a:\n",
    "        if i in b:\n",
    "            if i not in c:\n",
    "                c.append(i)\n",
    "    print(c)           \n",
    "your_function_23()    "
   ]
  },
  {
   "cell_type": "markdown",
   "id": "23ab5210",
   "metadata": {},
   "source": [
    "### Question 24\n",
    "Create a class Vector that supports addition, dot product, and magnitude."
   ]
  },
  {
   "cell_type": "code",
   "execution_count": null,
   "id": "f6b18fd7",
   "metadata": {},
   "outputs": [],
   "source": [
    "# Your code here\n",
    "def your_function_24():\n",
    "    class Vector:\n",
    "    def __init__(self, a,b):\n",
    "        self.a = a\n",
    "        self.b = b\n",
    "    def add(     \n",
    "your_function_24()"
   ]
  },
  {
   "cell_type": "markdown",
   "id": "a0621aba",
   "metadata": {},
   "source": [
    "### Question 25\n",
    "Implement a function to return all outliers in a list based on the IQR method."
   ]
  },
  {
   "cell_type": "code",
   "execution_count": 138,
   "id": "460a8994",
   "metadata": {},
   "outputs": [
    {
     "name": "stdout",
     "output_type": "stream",
     "text": [
      "0.0\n",
      "18.0\n",
      "outliers\n",
      "[57]\n"
     ]
    }
   ],
   "source": [
    "# Your code here\n",
    "def your_function_25():\n",
    "    a=[1,4,7,8,57]\n",
    "    q1=(25/100)*(len(a)+1)\n",
    "    q3=(75/100)*(len(a)+1)\n",
    "    IQR=q3-q1\n",
    "    lb=(q1-1.5)*(IQR)\n",
    "    ub=(q3+1.5)*(IQR)\n",
    "    print(lb)\n",
    "    print(ub)\n",
    "    x=[]\n",
    "    for i in a:\n",
    "        if i<lb or i>ub:\n",
    "            x.append(i)\n",
    "            print(\"outliers\")\n",
    "            print(x)\n",
    "            break\n",
    "    else:\n",
    "        print(\"None\")            \n",
    "your_function_25()"
   ]
  },
  {
   "cell_type": "markdown",
   "id": "f0be510e",
   "metadata": {},
   "source": [
    "### Question 26\n",
    "Function with default arguments:\n",
    "Create a function to compute variance with an option to use sample or population formula"
   ]
  },
  {
   "cell_type": "code",
   "execution_count": null,
   "id": "941d732d",
   "metadata": {},
   "outputs": [],
   "source": [
    "# Your code here\n",
    "def your_function_26():\n",
    "    \n",
    "your_function_26()"
   ]
  },
  {
   "cell_type": "markdown",
   "id": "c39be0f1",
   "metadata": {},
   "source": [
    "### Question 27\n",
    "Create a list of squares of even numbers between 1 and 20 using list comprehension."
   ]
  },
  {
   "cell_type": "code",
   "execution_count": 139,
   "id": "9e4ba74a",
   "metadata": {},
   "outputs": [
    {
     "name": "stdout",
     "output_type": "stream",
     "text": [
      "[4, 16, 36, 64, 100, 144, 196, 256, 324, 400]\n"
     ]
    }
   ],
   "source": [
    "# Your code here\n",
    "def your_function_27():\n",
    "    squares = [x**2 for x in range(1, 21) if x % 2 == 0]\n",
    "    print(squares)\n",
    "your_function_27()    "
   ]
  },
  {
   "cell_type": "markdown",
   "id": "b43c266d",
   "metadata": {},
   "source": [
    "### Question 28\n",
    "Write a function that returns the L1 and L2 norms of a vector given as list"
   ]
  },
  {
   "cell_type": "code",
   "execution_count": null,
   "id": "4f5dc876",
   "metadata": {},
   "outputs": [],
   "source": [
    "# Your code here\n",
    "def your_function_28():\n",
    "    \n",
    "your_function_28()"
   ]
  },
  {
   "cell_type": "markdown",
   "id": "2007915f",
   "metadata": {},
   "source": [
    "### Question 29\n",
    "Write a function that computes the 95% confidence interval for the mean of a list of numbers assuming normal distribution."
   ]
  },
  {
   "cell_type": "code",
   "execution_count": null,
   "id": "8634dc63",
   "metadata": {},
   "outputs": [],
   "source": [
    "# Your code here\n",
    "def your_function_29():\n",
    "    \n",
    "your_function_29()    "
   ]
  },
  {
   "cell_type": "markdown",
   "id": "08df3afb",
   "metadata": {},
   "source": [
    "### Question 30\n",
    "Given a list of categorical values, create a frequency distribution dictionary."
   ]
  },
  {
   "cell_type": "code",
   "execution_count": null,
   "id": "c9b88531",
   "metadata": {},
   "outputs": [],
   "source": [
    "# Your code here\n",
    "def your_function_30():\n",
    "    \n",
    "your_function_30()    "
   ]
  }
 ],
 "metadata": {
  "kernelspec": {
   "display_name": "Python 3 (ipykernel)",
   "language": "python",
   "name": "python3"
  },
  "language_info": {
   "codemirror_mode": {
    "name": "ipython",
    "version": 3
   },
   "file_extension": ".py",
   "mimetype": "text/x-python",
   "name": "python",
   "nbconvert_exporter": "python",
   "pygments_lexer": "ipython3",
   "version": "3.12.2"
  }
 },
 "nbformat": 4,
 "nbformat_minor": 5
}
